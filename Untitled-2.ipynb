{
 "cells": [
  {
   "cell_type": "code",
   "execution_count": null,
   "metadata": {},
   "outputs": [],
   "source": [
    "#Suma\n",
    "print(25+5)\n",
    "#Resta\n",
    "print(10-4)\n",
    "#Multiplicacion\n",
    "print(3 * 5)\n",
    "#División\n",
    "print(10 / 2)\n",
    "#Potencia\n",
    "print(3**3)"
   ]
  },
  {
   "cell_type": "code",
   "execution_count": null,
   "metadata": {},
   "outputs": [],
   "source": []
  }
 ],
 "metadata": {
  "interpreter": {
   "hash": "7d50889f04e1116cbb8c562281dc8070c4f50ff4fde41b372fc2aa06ec8e2432"
  },
  "kernelspec": {
   "display_name": "Python 3.8.12 ('dhdsblend2021')",
   "language": "python",
   "name": "python3"
  },
  "language_info": {
   "name": "python",
   "version": "3.8.12"
  },
  "orig_nbformat": 4
 },
 "nbformat": 4,
 "nbformat_minor": 2
}
